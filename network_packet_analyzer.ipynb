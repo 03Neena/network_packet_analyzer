{
 "cells": [
  {
   "cell_type": "code",
   "execution_count": 3,
   "id": "b495a2b5-c79f-4e51-8c44-d6faaf56b711",
   "metadata": {},
   "outputs": [],
   "source": [
    "\n",
    "from scapy.all import sniff\n",
    "from scapy.layers.inet import IP, TCP, UDP\n"
   ]
  },
  {
   "cell_type": "code",
   "execution_count": 15,
   "id": "04f3e52b-113e-4837-810c-75a7ebdeea9c",
   "metadata": {},
   "outputs": [],
   "source": [
    "def process_packet(packet):\n",
    "    if IP in packet:\n",
    "        ip_src = packet[IP].src\n",
    "        ip_dst = packet[IP].dst\n",
    "        proto = packet[IP].proto\n",
    "\n",
    "        if TCP in packet:\n",
    "            print(f\"TCP Packet: {ip_src} -> {ip_dst}\")\n",
    "        elif UDP in packet:\n",
    "            print(f\"UDP Packet: {ip_src} -> {ip_dst}\")\n",
    "        elif proto == 1:  # ICMP has a protocol number of 1\n",
    "            print(f\"ICMP Packet: {ip_src} -> {ip_dst}\")\n",
    "        else:\n",
    "            print(f\"Other IP Packet: {ip_src} -> {ip_dst}\")\n",
    "\n",
    "        print(f\"Raw payload: {bytes(packet[IP].payload)}\")\n",
    "\n",
    "\n"
   ]
  },
  {
   "cell_type": "code",
   "execution_count": null,
   "id": "2a219c20-f853-4677-9101-c0087d32a00f",
   "metadata": {},
   "outputs": [],
   "source": []
  },
  {
   "cell_type": "code",
   "execution_count": null,
   "id": "d6210c72-2061-4511-8a75-8172077c899f",
   "metadata": {},
   "outputs": [],
   "source": []
  },
  {
   "cell_type": "code",
   "execution_count": null,
   "id": "b845f982-1f6c-4ad6-9104-1cd786a3e98b",
   "metadata": {},
   "outputs": [],
   "source": []
  }
 ],
 "metadata": {
  "kernelspec": {
   "display_name": "Python 3 (ipykernel)",
   "language": "python",
   "name": "python3"
  },
  "language_info": {
   "codemirror_mode": {
    "name": "ipython",
    "version": 3
   },
   "file_extension": ".py",
   "mimetype": "text/x-python",
   "name": "python",
   "nbconvert_exporter": "python",
   "pygments_lexer": "ipython3",
   "version": "3.12.4"
  }
 },
 "nbformat": 4,
 "nbformat_minor": 5
}
